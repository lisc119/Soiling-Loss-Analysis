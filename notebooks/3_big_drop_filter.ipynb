{
 "cells": [
  {
   "cell_type": "markdown",
   "id": "common-motel",
   "metadata": {},
   "source": [
    "# Big drop filter \n",
    "### This notebook is third in the series of soiling detection pipeline notebooks\n",
    "\n",
    "Data from other parks can be used in the following notebooks by changing the working_dir and filepaths <b>\n",
    "    \n",
    "CSVs imported in this notebook are created in the 2_detect_timewindow pipeline notebook <b>\n",
    "\n",
    "   \n",
    " Author: Lisa Crowther"
   ]
  },
  {
   "cell_type": "code",
   "execution_count": 1,
   "id": "chief-calibration",
   "metadata": {},
   "outputs": [],
   "source": [
    "import pandas as pd\n",
    "import numpy as np\n",
    "import matplotlib\n",
    "import copy\n",
    "import matplotlib.pyplot as plt\n",
    "from pathlib import Path\n",
    "\n",
    "import datetime\n",
    "from datetime import datetime"
   ]
  },
  {
   "cell_type": "markdown",
   "id": "judicial-darwin",
   "metadata": {},
   "source": [
    "## Import dataframes from previous notebook\n"
   ]
  },
  {
   "cell_type": "code",
   "execution_count": 2,
   "id": "streaming-remains",
   "metadata": {},
   "outputs": [],
   "source": [
    "working_dir = \"../data/temp/park2/\"\n"
   ]
  },
  {
   "cell_type": "code",
   "execution_count": 3,
   "id": "cathedral-andrews",
   "metadata": {},
   "outputs": [],
   "source": [
    "root_path = \"../data/temp/park2/time_mask_filter/\"\n",
    "EPI_stringfilt_path = root_path + \"EPI_stringfilt.csv\"\n",
    "EPI_timemask_path = root_path + \"EPI_timemask.csv\""
   ]
  },
  {
   "cell_type": "code",
   "execution_count": 4,
   "id": "stylish-morocco",
   "metadata": {},
   "outputs": [],
   "source": [
    "def read_data(EPI_stringfilt_path, EPI_timemask_path):\n",
    "    EPI_stringfilt = pd.read_csv(EPI_stringfilt_path, delimiter=',',parse_dates=['datetime'], date_parser = pd.to_datetime, index_col='datetime')\n",
    "    EPI_timemask = pd.read_csv(EPI_timemask_path, delimiter = ',',parse_dates=['datetime'], date_parser = pd.to_datetime, index_col='datetime')\n",
    "    return [EPI_stringfilt, EPI_timemask]"
   ]
  },
  {
   "cell_type": "code",
   "execution_count": 5,
   "id": "annual-gentleman",
   "metadata": {},
   "outputs": [],
   "source": [
    "EPI_stringfilt, EPI_timemask = read_data(EPI_stringfilt_path, EPI_timemask_path)"
   ]
  },
  {
   "cell_type": "markdown",
   "id": "blank-details",
   "metadata": {},
   "source": [
    "## Filter by the change in EPI from one day to the next\n"
   ]
  },
  {
   "cell_type": "markdown",
   "id": "harmful-surprise",
   "metadata": {},
   "source": [
    "### Aggregate by day and calculate the daily change in EPI"
   ]
  },
  {
   "cell_type": "code",
   "execution_count": 7,
   "id": "stock-secretariat",
   "metadata": {},
   "outputs": [],
   "source": [
    "EPI_timemask_D= EPI_timemask.resample(rule='D').mean()"
   ]
  },
  {
   "cell_type": "code",
   "execution_count": 8,
   "id": "constitutional-bermuda",
   "metadata": {},
   "outputs": [],
   "source": [
    "lagdf_D = pd.DataFrame(copy.deepcopy(EPI_timemask_D))\n",
    "for cols in lagdf_D.columns:\n",
    "    lagdf_D[cols]=lagdf_D[cols]- lagdf_D[cols].shift(1)\n",
    "    \n"
   ]
  },
  {
   "cell_type": "code",
   "execution_count": 9,
   "id": "mounted-density",
   "metadata": {},
   "outputs": [],
   "source": [
    "leaddf_D = pd.DataFrame(copy.deepcopy(lagdf_D))\n",
    "for cols in leaddf_D.columns:\n",
    "    leaddf_D[cols]= leaddf_D[cols]-leaddf_D[cols].shift(-1)\n"
   ]
  },
  {
   "cell_type": "markdown",
   "id": "final-nowhere",
   "metadata": {},
   "source": [
    "### Set thresholds for large drops/jumps"
   ]
  },
  {
   "cell_type": "code",
   "execution_count": 10,
   "id": "eleven-wellington",
   "metadata": {},
   "outputs": [
    {
     "data": {
      "text/plain": [
       "-0.06511487704247261"
      ]
     },
     "execution_count": 10,
     "metadata": {},
     "output_type": "execute_result"
    }
   ],
   "source": [
    "description_dailyagg = lagdf_D.describe()\n",
    "mean_lag= description_dailyagg.loc['mean'].mean()\n",
    "std_lag= description_dailyagg.loc['std'].mean()\n",
    "\n",
    "lower_thresh_lag = mean_lag-std_lag\n",
    "upper_thresh_lag = -lower_thresh_lag\n",
    "lower_thresh_lag"
   ]
  },
  {
   "cell_type": "code",
   "execution_count": 11,
   "id": "subjective-joint",
   "metadata": {},
   "outputs": [
    {
     "data": {
      "text/plain": [
       "-0.06511487704247261"
      ]
     },
     "execution_count": 11,
     "metadata": {},
     "output_type": "execute_result"
    }
   ],
   "source": [
    "description_dailyagg = leaddf_D.describe()\n",
    "mean_lead= description_dailyagg.loc['mean'].mean()\n",
    "std_lead= description_dailyagg.loc['std'].mean()\n",
    "\n",
    "lower_thresh_lead = mean_lag-std_lag\n",
    "upper_thresh_lead = -lower_thresh_lag\n",
    "lower_thresh_lead"
   ]
  },
  {
   "cell_type": "markdown",
   "id": "authorized-formula",
   "metadata": {},
   "source": [
    "###  Create boolean masks for removing big drops/jumps\n",
    "Also generates a mask for only removing big drops (drop_mask), if wanted"
   ]
  },
  {
   "cell_type": "code",
   "execution_count": 12,
   "id": "special-teaching",
   "metadata": {},
   "outputs": [],
   "source": [
    "\n",
    "bool_1=lagdf_D.lt(lower_thresh_lag)\n",
    "bool_2 =lagdf_D.gt(upper_thresh_lag)\n",
    "\n",
    "bool_3=leaddf_D.lt(lower_thresh_lead)\n",
    "bool_4 =leaddf_D.gt(upper_thresh_lead)\n",
    "\n",
    "\n",
    "#if only using the drop filter\n",
    "drop_mask=bool_1|bool_2\n",
    "#if use the drop and jump filter: stringmask2\n",
    "drop_jump_mask=bool_1|bool_2|bool_3|bool_4\n",
    "\n"
   ]
  },
  {
   "cell_type": "code",
   "execution_count": 13,
   "id": "exclusive-reasoning",
   "metadata": {},
   "outputs": [],
   "source": [
    "\n",
    "EPI_bigdrop_filt = EPI_timemask_D.mask(drop_jump_mask)\n",
    "\n"
   ]
  },
  {
   "cell_type": "markdown",
   "id": "great-tunnel",
   "metadata": {},
   "source": [
    "Visualise to check effect of filter"
   ]
  },
  {
   "cell_type": "code",
   "execution_count": 104,
   "id": "promotional-conference",
   "metadata": {},
   "outputs": [
    {
     "data": {
      "text/plain": [
       "<AxesSubplot:xlabel='datetime'>"
      ]
     },
     "execution_count": 104,
     "metadata": {},
     "output_type": "execute_result"
    },
    {
     "data": {
      "image/png": "[encoded data removed]",
      "text/plain": [
       "<Figure size 432x288 with 1 Axes>"
      ]
     },
     "metadata": {
      "needs_background": "light"
     },
     "output_type": "display_data"
    }
   ],
   "source": [
    "\n",
    "EPI_timemask_D.median(axis=1).plot()\n",
    "EPI_bigdrop_filt.median(axis=1).plot()"
   ]
  },
  {
   "cell_type": "markdown",
   "id": "controlling-disclaimer",
   "metadata": {},
   "source": [
    "### Save big-drop filtered EPIs, and the masks for filtering"
   ]
  },
  {
   "cell_type": "code",
   "execution_count": 105,
   "id": "floppy-contrast",
   "metadata": {},
   "outputs": [],
   "source": [
    "##save data function from Marcus's scripts\n",
    "def save_data(dataframes, names, root_dir, sub_dir):\n",
    "\n",
    "    if root_dir[-1] != \"/\":\n",
    "                root_dir += \"/\"\n",
    "\n",
    "    if sub_dir[-1] != \"/\":\n",
    "                root_dir += sub_dir + \"/\"\n",
    "\n",
    "    for data, name in zip(dataframes, names):\n",
    "        try:\n",
    "            filepath_out = root_dir + name + \".csv\"\n",
    "            Path(root_dir).mkdir(parents=True, exist_ok=True)\n",
    "            print(f\"\\tSaving {filepath_out}...\")\n",
    "            data.to_csv(filepath_out)\n",
    "            print(\"\\tDone.\")\n",
    "        except Exception as e:\n",
    "            print(e)\n",
    "            pass"
   ]
  },
  {
   "cell_type": "code",
   "execution_count": 106,
   "id": "sunrise-viewer",
   "metadata": {},
   "outputs": [
    {
     "name": "stdout",
     "output_type": "stream",
     "text": [
      "\tSaving ../data/temp/park2/big_drop_filter/EPI_bigdrop_filt.csv...\n",
      "\tDone.\n",
      "\tSaving ../data/temp/park2/big_drop_filter/drop_jump_mask.csv...\n",
      "\tDone.\n",
      "\tSaving ../data/temp/park2/big_drop_filter/drop_mask.csv...\n",
      "\tDone.\n"
     ]
    }
   ],
   "source": [
    "\n",
    "save_data([EPI_bigdrop_filt,drop_jump_mask,drop_mask], [\"EPI_bigdrop_filt\",'drop_jump_mask','drop_mask'], working_dir, \"big_drop_filter\")"
   ]
  },
  {
   "cell_type": "code",
   "execution_count": null,
   "id": "cubic-fishing",
   "metadata": {},
   "outputs": [],
   "source": []
  },
  {
   "cell_type": "code",
   "execution_count": null,
   "id": "better-technician",
   "metadata": {},
   "outputs": [],
   "source": []
  }
 ],
 "metadata": {
  "kernelspec": {
   "display_name": "MLE",
   "language": "python",
   "name": "mle"
  },
  "language_info": {
   "codemirror_mode": {
    "name": "ipython",
    "version": 3
   },
   "file_extension": ".py",
   "mimetype": "text/x-python",
   "name": "python",
   "nbconvert_exporter": "python",
   "pygments_lexer": "ipython3",
   "version": "3.7.10"
  }
 },
 "nbformat": 4,
 "nbformat_minor": 5
}
