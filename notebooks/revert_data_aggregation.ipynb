{
 "cells": [
  {
   "cell_type": "markdown",
   "id": "american-referral",
   "metadata": {},
   "source": [
    "# Revert data to less aggregated data </br> (eg. daily-aggregated data to hourly-aggregated data)"
   ]
  },
  {
   "cell_type": "markdown",
   "id": "restricted-manhattan",
   "metadata": {},
   "source": [
    "### Author: Lina Siegrist"
   ]
  },
  {
   "cell_type": "markdown",
   "id": "plastic-merchandise",
   "metadata": {},
   "source": [
    "### This notebook include function where you can apply any boolean mask to a dataframe with different time aggregations."
   ]
  },
  {
   "cell_type": "code",
   "execution_count": 1,
   "id": "ahead-notion",
   "metadata": {},
   "outputs": [],
   "source": [
    "import pandas as pd\n",
    "import numpy as np\n",
    "import copy\n",
    "import datetime\n",
    "from datetime import datetime"
   ]
  },
  {
   "cell_type": "code",
   "execution_count": 2,
   "id": "elegant-armor",
   "metadata": {},
   "outputs": [],
   "source": [
    "from sys import path as syspath\n",
    "syspath.insert(1, '../src/')"
   ]
  },
  {
   "cell_type": "code",
   "execution_count": 3,
   "id": "sonic-india",
   "metadata": {},
   "outputs": [],
   "source": [
    "from scripts import apply_filters as af, filter_times as ft"
   ]
  },
  {
   "cell_type": "markdown",
   "id": "contrary-rainbow",
   "metadata": {},
   "source": [
    "## Define paths to data files"
   ]
  },
  {
   "cell_type": "code",
   "execution_count": 9,
   "id": "fresh-argument",
   "metadata": {},
   "outputs": [],
   "source": [
    "root_path = \"../data/processed/park1/\"\n",
    "\n",
    "# data from pipeline\n",
    "park1_combined_bool = root_path + \"masks/df_bool_BDfilt_dayfilt.csv\"\n",
    "\n",
    "# data from \"Preprocessing.ipynb\"\n",
    "park1_EPI_unfiltered_filepath = root_path + \"preprocessing/df_EPI.csv\"\n",
    "\n",
    "# data from \"Detect_timewindow.ipynb\"\n",
    "park1_clusters_filepath = '../data/processed/park1/park1_string_clusters_filtered.csv'"
   ]
  },
  {
   "cell_type": "markdown",
   "id": "legendary-influence",
   "metadata": {},
   "source": [
    "## Import file: Combine two boolean dataframe: big-drop filter & bad-day filter"
   ]
  },
  {
   "cell_type": "code",
   "execution_count": 10,
   "id": "known-practitioner",
   "metadata": {
    "tags": []
   },
   "outputs": [],
   "source": [
    "# clusters of strings\n",
    "df_clusters = pd.read_csv(park1_clusters_filepath, delimiter=',')"
   ]
  },
  {
   "cell_type": "code",
   "execution_count": 11,
   "id": "spatial-maximum",
   "metadata": {},
   "outputs": [],
   "source": [
    "# unfiltered EPI\n",
    "EPI_unfiltered = pd.read_csv(park1_EPI_unfiltered_filepath)\n",
    "EPI_unfiltered['datetime'] = pd.to_datetime(EPI_unfiltered['datetime'], format='%Y-%m-%d %H')\n",
    "EPI_unfiltered.set_index('datetime', drop = True, inplace = True)\n",
    "\n",
    "# basic preprocessing for unfiltered data (remove bad strings manually)\n",
    "bottom = df_clusters['bottom'].dropna().tolist()\n",
    "EPI_bottom = EPI_unfiltered[bottom]\n",
    "EPI_unfiltered = EPI_unfiltered.drop(columns = EPI_bottom.columns).drop([col for col in EPI_unfiltered.columns.to_list() if col.startswith(\"ST 2.7\")] + [\"ST 2.5.4\", \"ST 4.4.1\", \"ST 4.5.2\"], axis = 1)"
   ]
  },
  {
   "cell_type": "code",
   "execution_count": 12,
   "id": "assumed-expert",
   "metadata": {},
   "outputs": [],
   "source": [
    "# boolean dataframe (big-drop filter & bad-day filter)\n",
    "df_bool_BDfilt_dayfilt = pd.read_csv(park1_combined_bool)\n",
    "df_bool_BDfilt_dayfilt['datetime'] = pd.to_datetime(df_bool_BDfilt_dayfilt['datetime'], format='%Y-%m-%d %H')\n",
    "df_bool_BDfilt_dayfilt.set_index('datetime', drop = True, inplace = True)"
   ]
  },
  {
   "cell_type": "markdown",
   "id": "environmental-window",
   "metadata": {},
   "source": [
    "## Get it back the filtered data (freq: hour) from boolean dataframe <font color='orange'>(without timemask)</font>"
   ]
  },
  {
   "cell_type": "markdown",
   "id": "objective-bulgaria",
   "metadata": {},
   "source": [
    "#### LINA's comment: <font color='red'>Here mean() is changed to median</font> (19 Apr 2021)"
   ]
  },
  {
   "cell_type": "code",
   "execution_count": 13,
   "id": "responsible-playing",
   "metadata": {},
   "outputs": [],
   "source": [
    "# unfiltered data (frequency: hour)\n",
    "df = copy.deepcopy(EPI_unfiltered)\n",
    "df_hour=df.resample('H').median()\n",
    "df_hour = df_hour.iloc[:-2,:] # remove the last two rows (2020-07-01)"
   ]
  },
  {
   "cell_type": "code",
   "execution_count": 59,
   "id": "attempted-reservoir",
   "metadata": {
    "tags": []
   },
   "outputs": [],
   "source": [
    "# '''\n",
    "# LINA's memo\n",
    "# This line will take some time to be done.\n",
    "# '''\n",
    "# # get boolean dataframe with original time period (hour)\n",
    "# df_bool_h = ft.good_day_bool(df_hour, df_bool_BDfilt_dayfilt)"
   ]
  },
  {
   "cell_type": "code",
   "execution_count": 65,
   "id": "allied-notice",
   "metadata": {},
   "outputs": [],
   "source": [
    "# get boolean dataframe with original time period (hour)\n",
    "df_bool_h = ft.good_day_bool_optimized(df_hour, df_bool_BDfilt_dayfilt)"
   ]
  },
  {
   "cell_type": "code",
   "execution_count": 67,
   "id": "chemical-success",
   "metadata": {},
   "outputs": [],
   "source": [
    "# mask(substitute) data with NaN for bad days\n",
    "df_BDfilt_dayfilt_h = df_hour.mask(df_bool_h)"
   ]
  },
  {
   "cell_type": "code",
   "execution_count": 236,
   "id": "biological-parts",
   "metadata": {},
   "outputs": [],
   "source": [
    "# Export filtered data to csv\n",
    "df_BDfilt_dayfilt_h.to_csv(\"df_park1_allfilters_hourly_without_timemask_updated.csv\")"
   ]
  },
  {
   "cell_type": "markdown",
   "id": "foreign-light",
   "metadata": {},
   "source": [
    "## Get it back the filtered data (freq: hour) from boolean dataframe (freq: day) <font color='orange'>(with timemask)</font>"
   ]
  },
  {
   "cell_type": "markdown",
   "id": "focal-spelling",
   "metadata": {},
   "source": [
    "#### LINA's comment: <font color='red'>Here mean() is changed to median</font> (19 Apr 2021)"
   ]
  },
  {
   "cell_type": "code",
   "execution_count": 69,
   "id": "designed-magnet",
   "metadata": {},
   "outputs": [],
   "source": [
    "# unfiltered data (frequency: hour) + timemask \n",
    "df_tm = ft.timemask(df, 15, 19)\n",
    "df_tm_hour = df_tm.resample('H').median()\n",
    "time = [ind for ind in df_tm_hour.index if (ind.hour>=16)&(ind.hour<=18)]\n",
    "df_tm_hour=df_tm_hour.loc[time]"
   ]
  },
  {
   "cell_type": "code",
   "execution_count": 108,
   "id": "purple-completion",
   "metadata": {
    "tags": []
   },
   "outputs": [],
   "source": [
    "# '''\n",
    "# LINA's memo\n",
    "# This line will take some time to be done.\n",
    "# '''\n",
    "# # get boolean dataframe with original time period (hour)\n",
    "# df_bool_tm_h = ft.good_day_bool(df_tm_hour, df_bool_BDfilt_dayfilt)"
   ]
  },
  {
   "cell_type": "code",
   "execution_count": 70,
   "id": "configured-stadium",
   "metadata": {},
   "outputs": [],
   "source": [
    "# get boolean dataframe with original time period (hour)\n",
    "df_bool_tm_h = ft.good_day_bool_optimized(df_tm_hour, df_bool_BDfilt_dayfilt)"
   ]
  },
  {
   "cell_type": "code",
   "execution_count": 71,
   "id": "shaped-florist",
   "metadata": {},
   "outputs": [],
   "source": [
    "# mask(substitute) data with NaN for bad days\n",
    "df_BDfilt_dayfilt_tm_h = df_tm_hour.mask(df_bool_tm_h)"
   ]
  },
  {
   "cell_type": "code",
   "execution_count": 237,
   "id": "quarterly-street",
   "metadata": {
    "tags": []
   },
   "outputs": [],
   "source": [
    "# Export filtered data to csv\n",
    "df_BDfilt_dayfilt_tm_h.to_csv(\"df_park1_allfilters_hourly_timemasked_updated.csv\")"
   ]
  }
 ],
 "metadata": {
  "kernelspec": {
   "display_name": "capstone",
   "language": "python",
   "name": "capstone"
  },
  "language_info": {
   "codemirror_mode": {
    "name": "ipython",
    "version": 3
   },
   "file_extension": ".py",
   "mimetype": "text/x-python",
   "name": "python",
   "nbconvert_exporter": "python",
   "pygments_lexer": "ipython3",
   "version": "3.8.8"
  }
 },
 "nbformat": 4,
 "nbformat_minor": 5
}
