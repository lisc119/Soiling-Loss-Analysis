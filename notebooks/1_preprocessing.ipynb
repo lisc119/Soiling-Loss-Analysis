{
 "cells": [
  {
   "cell_type": "markdown",
   "id": "changed-sigma",
   "metadata": {},
   "source": [
    "# Preprocessing\n",
    "\n",
    "### This notebook is first in the series of soiling detection pipeline notebooks\n",
    "\n",
    "Data from other parks (eg Park1) can be used by changing the filepaths and working_dir\n",
    "\n",
    "Author: Lisa Crowther"
   ]
  },
  {
   "cell_type": "code",
   "execution_count": 1,
   "id": "looking-trace",
   "metadata": {},
   "outputs": [],
   "source": [
    "import pandas as pd\n",
    "import numpy as np\n",
    "import matplotlib\n",
    "import copy\n",
    "import matplotlib.pyplot as plt\n",
    "from pathlib import Path"
   ]
  },
  {
   "cell_type": "code",
   "execution_count": 14,
   "id": "eastern-sunrise",
   "metadata": {},
   "outputs": [],
   "source": [
    "from sys import path as syspath\n",
    "syspath.insert(1, '../src/')\n"
   ]
  },
  {
   "cell_type": "markdown",
   "id": "isolated-banks",
   "metadata": {},
   "source": [
    "## Import dataframes from previous notebook\n"
   ]
  },
  {
   "cell_type": "code",
   "execution_count": 15,
   "id": "brutal-accountability",
   "metadata": {},
   "outputs": [],
   "source": [
    "root_path = \"../data/raw/New_data/\"\n",
    "park1_power_filepath = root_path + \"SolarPark2_Oct_2019_Oct2020_string_production.csv\"\n",
    "park1_environment_filepath = root_path + \"Solarpark2_Oct_2019_Oct2020_environmental.csv\"\n",
    "park1_capacity_filepath = root_path + \"Solarpark_2_CB_capacity.csv\""
   ]
  },
  {
   "cell_type": "code",
   "execution_count": 16,
   "id": "gorgeous-elevation",
   "metadata": {},
   "outputs": [],
   "source": [
    "working_dir = \"../data/temp/park2/\"\n"
   ]
  },
  {
   "cell_type": "code",
   "execution_count": 17,
   "id": "demographic-alexandria",
   "metadata": {},
   "outputs": [],
   "source": [
    "def read_data(power_data_filepath, env_data_filepath, cap_data_filepath):\n",
    "    df_pow = pd.read_csv(power_data_filepath, delimiter=';',parse_dates=['datetime'], date_parser = pd.to_datetime, index_col='datetime')\n",
    "    df_env = pd.read_csv(env_data_filepath, delimiter = ',',parse_dates=['datetime'], date_parser = pd.to_datetime, index_col='datetime')\n",
    "    df_cap = pd.read_csv(cap_data_filepath)\n",
    "    return [df_pow, df_env, df_cap]\n"
   ]
  },
  {
   "cell_type": "code",
   "execution_count": 18,
   "id": "ambient-showcase",
   "metadata": {},
   "outputs": [],
   "source": [
    "df_pow, df_env, df_cap = read_data(park1_power_filepath, park1_environment_filepath, park1_capacity_filepath)\n"
   ]
  },
  {
   "cell_type": "markdown",
   "id": "accessory-semester",
   "metadata": {},
   "source": [
    "### Clean dataframes:\n",
    "Rename columns"
   ]
  },
  {
   "cell_type": "code",
   "execution_count": 19,
   "id": "opposite-corner",
   "metadata": {},
   "outputs": [],
   "source": [
    "\n",
    "df_env.columns = ['Temp_A', 'Temp_P', 'Irradiance']\n",
    "df_cap.columns= ['displayname', 'capacity_kW', 'number_panels']"
   ]
  },
  {
   "cell_type": "code",
   "execution_count": 21,
   "id": "dominant-wheel",
   "metadata": {},
   "outputs": [],
   "source": [
    "\n",
    "Inversors =df_pow.columns[(df_pow.columns).str.contains('Inv')]\n",
    "RCBs =df_pow.columns[(df_pow.columns).str.contains('RCB')]\n",
    "strings = df_pow.columns[(df_pow.columns).str.contains('ST')]\n",
    "CBs=df_pow.columns[(df_pow.columns).str.contains('CB')]"
   ]
  },
  {
   "cell_type": "markdown",
   "id": "premier-puzzle",
   "metadata": {},
   "source": [
    "Remove RCB columns (in park 1 contains NAs only)\n",
    "Remove inversors columns (want to analyse individual strings or CBs)"
   ]
  },
  {
   "cell_type": "code",
   "execution_count": 22,
   "id": "beneficial-sender",
   "metadata": {},
   "outputs": [],
   "source": [
    "\n",
    "df_pow.drop(columns=(RCBs), inplace=True)\n",
    "df_pow.drop(columns=(Inversors), inplace=True)"
   ]
  },
  {
   "cell_type": "code",
   "execution_count": 23,
   "id": "synthetic-front",
   "metadata": {},
   "outputs": [],
   "source": [
    "\n",
    "df_cap.dropna(inplace=True)\n"
   ]
  },
  {
   "cell_type": "markdown",
   "id": "failing-moore",
   "metadata": {},
   "source": [
    "### Calculate efficiency of panels"
   ]
  },
  {
   "cell_type": "code",
   "execution_count": 24,
   "id": "anticipated-address",
   "metadata": {},
   "outputs": [],
   "source": [
    "pan_No = df_cap.number_panels\n",
    "pan_No.index=df_cap.displayname\n",
    "cap= df_cap.capacity_kW\n",
    "cap.index=df_cap.displayname\n"
   ]
  },
  {
   "cell_type": "code",
   "execution_count": 25,
   "id": "given-significance",
   "metadata": {},
   "outputs": [],
   "source": [
    "\n",
    "panelArea=1.956*.992\n",
    "#in m2, from datasheet\n",
    "totalPanelA= pan_No*panelArea\n",
    "totalPanelA.dropna(inplace=True)\n"
   ]
  },
  {
   "cell_type": "code",
   "execution_count": 26,
   "id": "differential-pasta",
   "metadata": {},
   "outputs": [],
   "source": [
    "Efficiency = cap/totalPanelA\n",
    "Efficiency= round(Efficiency.tail(1).values[0],4)\n"
   ]
  },
  {
   "cell_type": "markdown",
   "id": "persistent-board",
   "metadata": {},
   "source": [
    "Merge power and environment dataframes, drop rows where Irradiance is NA"
   ]
  },
  {
   "cell_type": "code",
   "execution_count": 27,
   "id": "worldwide-payment",
   "metadata": {},
   "outputs": [],
   "source": [
    "power_env = pd.merge(df_pow,df_env, on=['datetime'], how='inner')\n"
   ]
  },
  {
   "cell_type": "code",
   "execution_count": 28,
   "id": "ultimate-alignment",
   "metadata": {},
   "outputs": [],
   "source": [
    "\n",
    "power_env_sub = power_env.dropna(subset=['Irradiance'])\n",
    "\n",
    "df_env_sub =df_env.dropna(subset=['Irradiance'])"
   ]
  },
  {
   "cell_type": "markdown",
   "id": "swedish-navigation",
   "metadata": {},
   "source": [
    "Calculate theoretical outputs (maxP)\n"
   ]
  },
  {
   "cell_type": "code",
   "execution_count": 29,
   "id": "signal-lexington",
   "metadata": {},
   "outputs": [],
   "source": [
    "# env data without nas \n",
    "df_env_sub = df_env_sub.dropna()\n"
   ]
  },
  {
   "cell_type": "code",
   "execution_count": 30,
   "id": "incredible-lesbian",
   "metadata": {},
   "outputs": [],
   "source": [
    "# Irradiance and temperature adjustment\n",
    "To = 25\n",
    "gamma = -0.004"
   ]
  },
  {
   "cell_type": "code",
   "execution_count": 31,
   "id": "turned-ceiling",
   "metadata": {},
   "outputs": [],
   "source": [
    "df_env_sub['irr_T_adj'] = df_env_sub.Irradiance/1000 * (1+((df_env_sub.Temp_P-To) * gamma))\n",
    "factor_Irr_Temp = df_env_sub.drop(columns=['Temp_A','Temp_P','Irradiance'])\n"
   ]
  },
  {
   "cell_type": "code",
   "execution_count": 32,
   "id": "focused-slovak",
   "metadata": {},
   "outputs": [
    {
     "data": {
      "text/plain": [
       "array([237.63879014, 227.73717389, 207.93394138, 148.52424384,\n",
       "       217.83555763, 188.13070886, 138.62262758, 198.03232512,\n",
       "       128.72101133])"
      ]
     },
     "execution_count": 32,
     "metadata": {},
     "output_type": "execute_result"
    }
   ],
   "source": [
    "# Panel area and efficiency adjustment\n",
    "AE = (totalPanelA*Efficiency).dropna()\n",
    "AE.unique()"
   ]
  },
  {
   "cell_type": "code",
   "execution_count": 33,
   "id": "female-myanmar",
   "metadata": {},
   "outputs": [],
   "source": [
    "\n",
    "#multiply the area and efficiency for each string by the irradiance and temperature adjustment factor\n",
    "#this has only dates where irradiance was not NA\n",
    "for i in range(len(AE)):\n",
    "\n",
    "    factor_Irr_Temp[AE.index[i]]=factor_Irr_Temp.irr_T_adj*AE[i]\n",
    "    \n",
    "#this is the A * E for each string multiplied by the irradiance * temperature adjustment factor : ie power max in Watts"
   ]
  },
  {
   "cell_type": "code",
   "execution_count": null,
   "id": "enclosed-seafood",
   "metadata": {},
   "outputs": [],
   "source": []
  },
  {
   "cell_type": "code",
   "execution_count": 34,
   "id": "environmental-teddy",
   "metadata": {},
   "outputs": [],
   "source": [
    "## Theoretical output dataframe: adjusted power output values and drop the adjustment factor column\n",
    "\n",
    "maxP_df = copy.deepcopy(factor_Irr_Temp.drop(columns=['irr_T_adj']))\n"
   ]
  },
  {
   "cell_type": "code",
   "execution_count": 35,
   "id": "agricultural-sensitivity",
   "metadata": {},
   "outputs": [
    {
     "data": {
      "text/html": [
       "<div>\n",
       "<style scoped>\n",
       "    .dataframe tbody tr th:only-of-type {\n",
       "        vertical-align: middle;\n",
       "    }\n",
       "\n",
       "    .dataframe tbody tr th {\n",
       "        vertical-align: top;\n",
       "    }\n",
       "\n",
       "    .dataframe thead th {\n",
       "        text-align: right;\n",
       "    }\n",
       "</style>\n",
       "<table border=\"1\" class=\"dataframe\">\n",
       "  <thead>\n",
       "    <tr style=\"text-align: right;\">\n",
       "      <th></th>\n",
       "      <th>CB 1.01_(kW)</th>\n",
       "      <th>CB 1.02_(kW)</th>\n",
       "      <th>CB 1.03_(kW)</th>\n",
       "      <th>CB 1.04_(kW)</th>\n",
       "      <th>CB 1.05_(kW)</th>\n",
       "      <th>CB 1.06_(kW)</th>\n",
       "      <th>CB 1.07_(kW)</th>\n",
       "      <th>CB 1.08_(kW)</th>\n",
       "      <th>CB 1.09_(kW)</th>\n",
       "      <th>CB 1.10_(kW)</th>\n",
       "      <th>...</th>\n",
       "      <th>CB 4.02_(kW)</th>\n",
       "      <th>CB 4.03_(kW)</th>\n",
       "      <th>CB 4.04_(kW)</th>\n",
       "      <th>CB 4.05_(kW)</th>\n",
       "      <th>CB 4.06_(kW)</th>\n",
       "      <th>CB 4.07_(kW)</th>\n",
       "      <th>CB 4.08_(kW)</th>\n",
       "      <th>CB 4.09_(kW)</th>\n",
       "      <th>CB 4.10_(kW)</th>\n",
       "      <th>CB 4.11_(kW)</th>\n",
       "    </tr>\n",
       "    <tr>\n",
       "      <th>datetime</th>\n",
       "      <th></th>\n",
       "      <th></th>\n",
       "      <th></th>\n",
       "      <th></th>\n",
       "      <th></th>\n",
       "      <th></th>\n",
       "      <th></th>\n",
       "      <th></th>\n",
       "      <th></th>\n",
       "      <th></th>\n",
       "      <th></th>\n",
       "      <th></th>\n",
       "      <th></th>\n",
       "      <th></th>\n",
       "      <th></th>\n",
       "      <th></th>\n",
       "      <th></th>\n",
       "      <th></th>\n",
       "      <th></th>\n",
       "      <th></th>\n",
       "      <th></th>\n",
       "    </tr>\n",
       "  </thead>\n",
       "  <tbody>\n",
       "    <tr>\n",
       "      <th>2019-10-01 10:35:00</th>\n",
       "      <td>0.000000</td>\n",
       "      <td>0.198920</td>\n",
       "      <td>0.198920</td>\n",
       "      <td>0.000000</td>\n",
       "      <td>0.00000</td>\n",
       "      <td>0.0</td>\n",
       "      <td>0.0</td>\n",
       "      <td>0.0</td>\n",
       "      <td>0.000000</td>\n",
       "      <td>0.0</td>\n",
       "      <td>...</td>\n",
       "      <td>0.797808</td>\n",
       "      <td>0.797808</td>\n",
       "      <td>0.897534</td>\n",
       "      <td>0.199452</td>\n",
       "      <td>0.199452</td>\n",
       "      <td>0.000000</td>\n",
       "      <td>0.199452</td>\n",
       "      <td>0.199452</td>\n",
       "      <td>0.299178</td>\n",
       "      <td>0.219397</td>\n",
       "    </tr>\n",
       "    <tr>\n",
       "      <th>2019-10-01 10:40:00</th>\n",
       "      <td>0.099060</td>\n",
       "      <td>0.277368</td>\n",
       "      <td>0.277368</td>\n",
       "      <td>0.079248</td>\n",
       "      <td>0.00000</td>\n",
       "      <td>0.0</td>\n",
       "      <td>0.0</td>\n",
       "      <td>0.0</td>\n",
       "      <td>0.000000</td>\n",
       "      <td>0.0</td>\n",
       "      <td>...</td>\n",
       "      <td>0.891450</td>\n",
       "      <td>0.891450</td>\n",
       "      <td>0.970690</td>\n",
       "      <td>0.257530</td>\n",
       "      <td>0.277340</td>\n",
       "      <td>0.099050</td>\n",
       "      <td>0.277340</td>\n",
       "      <td>0.316960</td>\n",
       "      <td>0.376390</td>\n",
       "      <td>0.277340</td>\n",
       "    </tr>\n",
       "    <tr>\n",
       "      <th>2019-10-01 10:45:00</th>\n",
       "      <td>0.161117</td>\n",
       "      <td>0.342373</td>\n",
       "      <td>0.342373</td>\n",
       "      <td>0.140977</td>\n",
       "      <td>0.02014</td>\n",
       "      <td>0.0</td>\n",
       "      <td>0.0</td>\n",
       "      <td>0.0</td>\n",
       "      <td>0.040279</td>\n",
       "      <td>0.0</td>\n",
       "      <td>...</td>\n",
       "      <td>0.943929</td>\n",
       "      <td>0.964013</td>\n",
       "      <td>1.004180</td>\n",
       "      <td>0.281170</td>\n",
       "      <td>0.341421</td>\n",
       "      <td>0.140585</td>\n",
       "      <td>0.301254</td>\n",
       "      <td>0.341421</td>\n",
       "      <td>0.421756</td>\n",
       "      <td>0.281170</td>\n",
       "    </tr>\n",
       "    <tr>\n",
       "      <th>2019-10-01 10:50:00</th>\n",
       "      <td>0.000000</td>\n",
       "      <td>0.209124</td>\n",
       "      <td>0.209124</td>\n",
       "      <td>0.000000</td>\n",
       "      <td>0.00000</td>\n",
       "      <td>0.0</td>\n",
       "      <td>0.0</td>\n",
       "      <td>0.0</td>\n",
       "      <td>0.000000</td>\n",
       "      <td>0.0</td>\n",
       "      <td>...</td>\n",
       "      <td>0.836096</td>\n",
       "      <td>0.856998</td>\n",
       "      <td>0.940608</td>\n",
       "      <td>0.209024</td>\n",
       "      <td>0.209024</td>\n",
       "      <td>0.000000</td>\n",
       "      <td>0.209024</td>\n",
       "      <td>0.209024</td>\n",
       "      <td>0.271731</td>\n",
       "      <td>0.209024</td>\n",
       "    </tr>\n",
       "    <tr>\n",
       "      <th>2019-10-01 10:55:00</th>\n",
       "      <td>0.000000</td>\n",
       "      <td>0.213716</td>\n",
       "      <td>0.213716</td>\n",
       "      <td>0.000000</td>\n",
       "      <td>0.00000</td>\n",
       "      <td>0.0</td>\n",
       "      <td>0.0</td>\n",
       "      <td>0.0</td>\n",
       "      <td>0.000000</td>\n",
       "      <td>0.0</td>\n",
       "      <td>...</td>\n",
       "      <td>0.854032</td>\n",
       "      <td>0.896734</td>\n",
       "      <td>0.960786</td>\n",
       "      <td>0.213508</td>\n",
       "      <td>0.213508</td>\n",
       "      <td>0.000000</td>\n",
       "      <td>0.213508</td>\n",
       "      <td>0.213508</td>\n",
       "      <td>0.277560</td>\n",
       "      <td>0.213508</td>\n",
       "    </tr>\n",
       "  </tbody>\n",
       "</table>\n",
       "<p>5 rows × 45 columns</p>\n",
       "</div>"
      ],
      "text/plain": [
       "                     CB 1.01_(kW)  CB 1.02_(kW)  CB 1.03_(kW)  CB 1.04_(kW)  \\\n",
       "datetime                                                                      \n",
       "2019-10-01 10:35:00      0.000000      0.198920      0.198920      0.000000   \n",
       "2019-10-01 10:40:00      0.099060      0.277368      0.277368      0.079248   \n",
       "2019-10-01 10:45:00      0.161117      0.342373      0.342373      0.140977   \n",
       "2019-10-01 10:50:00      0.000000      0.209124      0.209124      0.000000   \n",
       "2019-10-01 10:55:00      0.000000      0.213716      0.213716      0.000000   \n",
       "\n",
       "                     CB 1.05_(kW)  CB 1.06_(kW)  CB 1.07_(kW)  CB 1.08_(kW)  \\\n",
       "datetime                                                                      \n",
       "2019-10-01 10:35:00       0.00000           0.0           0.0           0.0   \n",
       "2019-10-01 10:40:00       0.00000           0.0           0.0           0.0   \n",
       "2019-10-01 10:45:00       0.02014           0.0           0.0           0.0   \n",
       "2019-10-01 10:50:00       0.00000           0.0           0.0           0.0   \n",
       "2019-10-01 10:55:00       0.00000           0.0           0.0           0.0   \n",
       "\n",
       "                     CB 1.09_(kW)  CB 1.10_(kW)  ...  CB 4.02_(kW)  \\\n",
       "datetime                                         ...                 \n",
       "2019-10-01 10:35:00      0.000000           0.0  ...      0.797808   \n",
       "2019-10-01 10:40:00      0.000000           0.0  ...      0.891450   \n",
       "2019-10-01 10:45:00      0.040279           0.0  ...      0.943929   \n",
       "2019-10-01 10:50:00      0.000000           0.0  ...      0.836096   \n",
       "2019-10-01 10:55:00      0.000000           0.0  ...      0.854032   \n",
       "\n",
       "                     CB 4.03_(kW)  CB 4.04_(kW)  CB 4.05_(kW)  CB 4.06_(kW)  \\\n",
       "datetime                                                                      \n",
       "2019-10-01 10:35:00      0.797808      0.897534      0.199452      0.199452   \n",
       "2019-10-01 10:40:00      0.891450      0.970690      0.257530      0.277340   \n",
       "2019-10-01 10:45:00      0.964013      1.004180      0.281170      0.341421   \n",
       "2019-10-01 10:50:00      0.856998      0.940608      0.209024      0.209024   \n",
       "2019-10-01 10:55:00      0.896734      0.960786      0.213508      0.213508   \n",
       "\n",
       "                     CB 4.07_(kW)  CB 4.08_(kW)  CB 4.09_(kW)  CB 4.10_(kW)  \\\n",
       "datetime                                                                      \n",
       "2019-10-01 10:35:00      0.000000      0.199452      0.199452      0.299178   \n",
       "2019-10-01 10:40:00      0.099050      0.277340      0.316960      0.376390   \n",
       "2019-10-01 10:45:00      0.140585      0.301254      0.341421      0.421756   \n",
       "2019-10-01 10:50:00      0.000000      0.209024      0.209024      0.271731   \n",
       "2019-10-01 10:55:00      0.000000      0.213508      0.213508      0.277560   \n",
       "\n",
       "                     CB 4.11_(kW)  \n",
       "datetime                           \n",
       "2019-10-01 10:35:00      0.219397  \n",
       "2019-10-01 10:40:00      0.277340  \n",
       "2019-10-01 10:45:00      0.281170  \n",
       "2019-10-01 10:50:00      0.209024  \n",
       "2019-10-01 10:55:00      0.213508  \n",
       "\n",
       "[5 rows x 45 columns]"
      ]
     },
     "execution_count": 35,
     "metadata": {},
     "output_type": "execute_result"
    }
   ],
   "source": [
    "# Output dataframe where irradiance is not NA\n",
    "output_sub= power_env_sub.drop(columns=['Temp_A','Temp_P', 'Irradiance'])\n",
    "output_sub.head()"
   ]
  },
  {
   "cell_type": "code",
   "execution_count": 36,
   "id": "accompanied-contract",
   "metadata": {},
   "outputs": [],
   "source": [
    "maxP_df.columns=output_sub.columns"
   ]
  },
  {
   "cell_type": "markdown",
   "id": "enclosed-myrtle",
   "metadata": {},
   "source": [
    "### Calculate Energy Performance Index (EPI)\n",
    "Power output/ theoretical calculated output"
   ]
  },
  {
   "cell_type": "code",
   "execution_count": 38,
   "id": "entire-carrier",
   "metadata": {},
   "outputs": [],
   "source": [
    "EPI= output_sub.div(maxP_df)"
   ]
  },
  {
   "cell_type": "code",
   "execution_count": 39,
   "id": "fleet-election",
   "metadata": {},
   "outputs": [
    {
     "data": {
      "text/plain": [
       "<AxesSubplot:xlabel='datetime'>"
      ]
     },
     "execution_count": 39,
     "metadata": {},
     "output_type": "execute_result"
    },
    {
     "data": {
      "image/png": "[encoded data removed]",
      "text/plain": [
       "<Figure size 432x288 with 1 Axes>"
      ]
     },
     "metadata": {
      "needs_background": "light"
     },
     "output_type": "display_data"
    }
   ],
   "source": [
    "EPI.median(axis=1).plot()"
   ]
  },
  {
   "cell_type": "markdown",
   "id": "orange-division",
   "metadata": {},
   "source": [
    "### Save csvs: \n",
    "Output data of strings/CBs only, EPIs of strings/CBs, theoretical output of strings/CBs\n"
   ]
  },
  {
   "cell_type": "code",
   "execution_count": 40,
   "id": "honest-pastor",
   "metadata": {},
   "outputs": [],
   "source": [
    "##save data function from Marcus's scripts\n",
    "def save_data(dataframes, names, root_dir, sub_dir):\n",
    "\n",
    "    if root_dir[-1] != \"/\":\n",
    "                root_dir += \"/\"\n",
    "\n",
    "    if sub_dir[-1] != \"/\":\n",
    "                root_dir += sub_dir + \"/\"\n",
    "\n",
    "    for data, name in zip(dataframes, names):\n",
    "        try:\n",
    "            filepath_out = root_dir + name + \".csv\"\n",
    "            Path(root_dir).mkdir(parents=True, exist_ok=True)\n",
    "            print(f\"\\tSaving {filepath_out}...\")\n",
    "            data.to_csv(filepath_out)\n",
    "            print(\"\\tDone.\")\n",
    "        except Exception as e:\n",
    "            print(e)\n",
    "            pass"
   ]
  },
  {
   "cell_type": "code",
   "execution_count": 67,
   "id": "sufficient-doctor",
   "metadata": {},
   "outputs": [
    {
     "name": "stdout",
     "output_type": "stream",
     "text": [
      "\tSaving ../data/temp/park2/preprocessing/df_output.csv...\n",
      "\tDone.\n",
      "\tSaving ../data/temp/park2/preprocessing/df_EPI.csv...\n",
      "\tDone.\n",
      "\tSaving ../data/temp/park2/preprocessing/df_theor_output.csv...\n",
      "\tDone.\n"
     ]
    }
   ],
   "source": [
    "\n",
    "save_data([output_sub, EPI, maxP_df], [\"df_output\", \"df_EPI\", 'df_theor_output'], working_dir, \"preprocessing\")"
   ]
  },
  {
   "cell_type": "code",
   "execution_count": null,
   "id": "soviet-output",
   "metadata": {},
   "outputs": [],
   "source": []
  }
 ],
 "metadata": {
  "kernelspec": {
   "display_name": "MLE",
   "language": "python",
   "name": "mle"
  },
  "language_info": {
   "codemirror_mode": {
    "name": "ipython",
    "version": 3
   },
   "file_extension": ".py",
   "mimetype": "text/x-python",
   "name": "python",
   "nbconvert_exporter": "python",
   "pygments_lexer": "ipython3",
   "version": "3.7.10"
  }
 },
 "nbformat": 4,
 "nbformat_minor": 5
}
